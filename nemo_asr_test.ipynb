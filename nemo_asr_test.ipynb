{
 "cells": [
  {
   "cell_type": "markdown",
   "id": "423b9957-5718-49da-8e8b-86e9222ae834",
   "metadata": {},
   "source": [
    "# Import the required modules:\n",
    "[Nvidia - NeMo docs](https://docs.nvidia.com/deeplearning/nemo/user-guide/docs/en/stable/starthere/intro.html)  \n",
    "https://github.com/NVIDIA/NeMo"
   ]
  },
  {
   "cell_type": "code",
   "execution_count": 1,
   "id": "4f6811b7-202b-464b-8601-96ca31b3505e",
   "metadata": {},
   "outputs": [
    {
     "name": "stderr",
     "output_type": "stream",
     "text": [
      "[NeMo W 2023-05-10 19:34:41 optimizers:54] Apex was not found. Using the lamb or fused_adam optimizer will error out.\n",
      "[NeMo W 2023-05-10 19:34:43 experimental:27] Module <class 'nemo.collections.asr.modules.audio_modules.SpectrogramToMultichannelFeatures'> is experimental, not ready for production and is not fully supported. Use at your own risk.\n"
     ]
    }
   ],
   "source": [
    "import nemo.collections.asr as nemo_asr\n",
    "import os"
   ]
  },
  {
   "cell_type": "markdown",
   "id": "d2473d2c-702c-419d-81be-a62b9924dc90",
   "metadata": {
    "tags": []
   },
   "source": [
    "## Example from nvidia library"
   ]
  },
  {
   "cell_type": "code",
   "execution_count": 2,
   "id": "d5b25fa7-7cae-4c04-98b3-33270b70dbc2",
   "metadata": {},
   "outputs": [],
   "source": [
    "# Here is an example of all CTC-based models:\n",
    "#nemo_asr.models.EncDecCTCModel.list_available_models()\n",
    "# More ASR Models are available - see: nemo_asr.models.ASRModel.list_available_models()"
   ]
  },
  {
   "cell_type": "code",
   "execution_count": 3,
   "id": "7b75be22-3152-437d-8810-49c1b9fb7d70",
   "metadata": {},
   "outputs": [
    {
     "name": "stdout",
     "output_type": "stream",
     "text": [
      "[NeMo I 2023-05-10 19:34:43 cloud:58] Found existing object C:\\Users\\blaze\\.cache\\torch\\NeMo\\NeMo_1.17.0\\QuartzNet15x5Base-En\\2b066be39e9294d7100fb176ec817722\\QuartzNet15x5Base-En.nemo.\n",
      "[NeMo I 2023-05-10 19:34:43 cloud:64] Re-using file from: C:\\Users\\blaze\\.cache\\torch\\NeMo\\NeMo_1.17.0\\QuartzNet15x5Base-En\\2b066be39e9294d7100fb176ec817722\\QuartzNet15x5Base-En.nemo\n",
      "[NeMo I 2023-05-10 19:34:43 common:913] Instantiating model from pre-trained checkpoint\n",
      "[NeMo I 2023-05-10 19:34:44 features:287] PADDING: 16\n",
      "[NeMo I 2023-05-10 19:34:45 save_restore_connector:247] Model EncDecCTCModel was successfully restored from C:\\Users\\blaze\\.cache\\torch\\NeMo\\NeMo_1.17.0\\QuartzNet15x5Base-En\\2b066be39e9294d7100fb176ec817722\\QuartzNet15x5Base-En.nemo.\n"
     ]
    }
   ],
   "source": [
    "# Speech Recognition model - Citrinet initially trained on Multilingual LibriSpeech English corpus, and fine-tuned on the open source Aishell-2\n",
    "asr_model = nemo_asr.models.EncDecCTCModel.from_pretrained(model_name=\"QuartzNet15x5Base-En\")#.cuda()"
   ]
  },
  {
   "cell_type": "code",
   "execution_count": 4,
   "id": "af026571-40ee-4ea0-8f47-6339d7e497c2",
   "metadata": {},
   "outputs": [
    {
     "data": {
      "application/vnd.jupyter.widget-view+json": {
       "model_id": "fe52abbf6b464f49a868dda123bbc98b",
       "version_major": 2,
       "version_minor": 0
      },
      "text/plain": [
       "Transcribing:   0%|          | 0/1 [00:00<?, ?it/s]"
      ]
     },
     "metadata": {},
     "output_type": "display_data"
    }
   ],
   "source": [
    "# IMPORTANT: The audio must be mono with 16Khz sampling rate\n",
    "data_path = os.path.join(os.getcwd(), 'references\\hello_world.wav')\n",
    "\n",
    "audio_samples = [data_path]\n",
    "transcriptions = asr_model.transcribe(audio_samples)"
   ]
  },
  {
   "cell_type": "code",
   "execution_count": 5,
   "id": "22bf0965-b51f-4da2-b354-0665f6af613c",
   "metadata": {},
   "outputs": [
    {
     "name": "stdout",
     "output_type": "stream",
     "text": [
      "this is a recording we are testing a python library called nemo hello world\n"
     ]
    }
   ],
   "source": [
    "for text in transcriptions:\n",
    "    print(text)"
   ]
  }
 ],
 "metadata": {
  "kernelspec": {
   "display_name": "Python 3 (ipykernel)",
   "language": "python",
   "name": "python3"
  },
  "language_info": {
   "codemirror_mode": {
    "name": "ipython",
    "version": 3
   },
   "file_extension": ".py",
   "mimetype": "text/x-python",
   "name": "python",
   "nbconvert_exporter": "python",
   "pygments_lexer": "ipython3",
   "version": "3.8.10"
  }
 },
 "nbformat": 4,
 "nbformat_minor": 5
}

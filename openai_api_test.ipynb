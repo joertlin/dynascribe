{
 "cells": [
  {
   "cell_type": "code",
   "execution_count": 1,
   "id": "46a25d14-9ef5-4f76-a45e-e709059375e8",
   "metadata": {},
   "outputs": [],
   "source": [
    "import openai  # for OpenAI API calls\n",
    "import time  # for measuring time duration of API calls\n",
    "\n",
    "from ipywidgets import Output\n",
    "\n",
    "import config"
   ]
  },
  {
   "cell_type": "code",
   "execution_count": 2,
   "id": "6e6cf775-3ba9-487c-b5a3-b64fe97c5315",
   "metadata": {},
   "outputs": [],
   "source": [
    "# Auth\n",
    "openai.api_key = config.OPENAI_API_KEY\n",
    "\n",
    "# App\n",
    "LLM_MODEL = config.LLM_MODEL\n",
    "\n",
    "# Test\n",
    "setup = config.OPENAI_ASSISTANT_SETUP\n",
    "q = config.TEST_TRANSCRIPTION"
   ]
  },
  {
   "cell_type": "code",
   "execution_count": 3,
   "id": "f38a1a90-89b5-4f35-8d90-de86be668597",
   "metadata": {},
   "outputs": [],
   "source": [
    "def openai_chat(query_content, query_role=\"user\", llm_model=LLM_MODEL):\n",
    "    r = openai.ChatCompletion.create(\n",
    "        model=llm_model, \n",
    "        messages=[{'role': query_role, 'content': query_content}],\n",
    "        temperature=0,\n",
    "        stream=False\n",
    "    )\n",
    "    \n",
    "    return r"
   ]
  },
  {
   "cell_type": "code",
   "execution_count": 4,
   "id": "e52cff92-2bb2-4c89-a3cc-833184a59faa",
   "metadata": {},
   "outputs": [],
   "source": [
    "response = openai_chat(setup+q)"
   ]
  },
  {
   "cell_type": "code",
   "execution_count": 5,
   "id": "d4defe44-9f11-4375-93f7-9d77b07b4bef",
   "metadata": {},
   "outputs": [],
   "source": [
    "r = response[\"choices\"][0][\"message\"][\"content\"].replace('\"', '')"
   ]
  },
  {
   "cell_type": "code",
   "execution_count": 6,
   "id": "3ea8f612-43bb-40d9-a706-9b7833ff5ab8",
   "metadata": {},
   "outputs": [
    {
     "name": "stdout",
     "output_type": "stream",
     "text": [
      "Model used: gpt-3.5-turbo\n",
      "Query:\n",
      " You are a transcription assistant. I will give you an unformatted text string, and you will return the string formatted with punctionation and likely misspelled words corrected:this is a recording we are testing a python library called nemo hello world\n",
      "Response:\n",
      " This is a recording. We are testing a Python library called Nemo. Hello, world.\n"
     ]
    }
   ],
   "source": [
    "print(\"Model used: %s\"%LLM_MODEL)\n",
    "print(\"Query:\\n %s\"%(setup + q))\n",
    "print(\"Response:\\n %s\"%r)"
   ]
  }
 ],
 "metadata": {
  "kernelspec": {
   "display_name": "Python 3 (ipykernel)",
   "language": "python",
   "name": "python3"
  },
  "language_info": {
   "codemirror_mode": {
    "name": "ipython",
    "version": 3
   },
   "file_extension": ".py",
   "mimetype": "text/x-python",
   "name": "python",
   "nbconvert_exporter": "python",
   "pygments_lexer": "ipython3",
   "version": "3.8.10"
  }
 },
 "nbformat": 4,
 "nbformat_minor": 5
}
